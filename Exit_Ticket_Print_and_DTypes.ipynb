{
  "cells": [
    {
      "cell_type": "markdown",
      "metadata": {
        "id": "view-in-github",
        "colab_type": "text"
      },
      "source": [
        "<a href=\"https://colab.research.google.com/github/FatumataDia/2025-HUDS-Bootcamp/blob/main/Exit_Ticket_Print_and_DTypes.ipynb\" target=\"_parent\"><img src=\"https://colab.research.google.com/assets/colab-badge.svg\" alt=\"Open In Colab\"/></a>"
      ]
    },
    {
      "cell_type": "markdown",
      "metadata": {
        "id": "F1gmTOXrOz8o"
      },
      "source": [
        "# Data Types in Python\n",
        "\n",
        "This notebook is aimed at shedding some light on the different data types in Python. This shall form a strong foundation for your programming and Data Science journey."
      ]
    },
    {
      "cell_type": "markdown",
      "metadata": {
        "id": "7QqpOZ_eOz8s"
      },
      "source": [
        "## Numeric Data Type"
      ]
    },
    {
      "cell_type": "markdown",
      "metadata": {
        "id": "LUutoZFPOz8u"
      },
      "source": [
        "You can check the data type of an object using the `type()` command.\n",
        "The syntax looks like this: `type(variableName)`"
      ]
    },
    {
      "cell_type": "markdown",
      "metadata": {
        "id": "OIUTZNCXP5i5"
      },
      "source": [
        "### Your turn now.\n",
        "Store the following into three different objects and check their data types:\n",
        "* 2\n",
        "* 1086J\n",
        "* 3.14567"
      ]
    },
    {
      "cell_type": "code",
      "execution_count": 7,
      "metadata": {
        "id": "NDyorQr3Oz8y",
        "colab": {
          "base_uri": "https://localhost:8080/"
        },
        "outputId": "db9d96e9-633f-4bf2-8d96-103e3b424b29"
      },
      "outputs": [
        {
          "output_type": "execute_result",
          "data": {
            "text/plain": [
              "int"
            ]
          },
          "metadata": {},
          "execution_count": 7
        }
      ],
      "source": [
        "# Create an object with a value of 2\n",
        "value1=2\n",
        "\n",
        "# Check the data type\n",
        "type(value1)\n"
      ]
    },
    {
      "cell_type": "code",
      "execution_count": 8,
      "metadata": {
        "id": "yCnIeFx8UOQJ",
        "colab": {
          "base_uri": "https://localhost:8080/"
        },
        "outputId": "5af409ad-a968-459b-d147-8f614645a5c5"
      },
      "outputs": [
        {
          "output_type": "execute_result",
          "data": {
            "text/plain": [
              "str"
            ]
          },
          "metadata": {},
          "execution_count": 8
        }
      ],
      "source": [
        "# Create an object with a value of 1086J\n",
        "value2=\"1086J\"\n",
        "\n",
        "# Check the data type\n",
        "type(value2)\n"
      ]
    },
    {
      "cell_type": "code",
      "execution_count": 9,
      "metadata": {
        "id": "QCsczuMrUOZg",
        "colab": {
          "base_uri": "https://localhost:8080/"
        },
        "outputId": "68b02dc8-e5a3-408c-a9a3-b2bf89fb47ab"
      },
      "outputs": [
        {
          "output_type": "execute_result",
          "data": {
            "text/plain": [
              "float"
            ]
          },
          "metadata": {},
          "execution_count": 9
        }
      ],
      "source": [
        "# Create an object with a value of 3.14567\n",
        "value3=3.14567\n",
        "\n",
        "# Check the data type\n",
        "type (value3)\n"
      ]
    },
    {
      "cell_type": "markdown",
      "metadata": {
        "id": "PI5eLU4mOz80"
      },
      "source": [
        "## String Data Type"
      ]
    },
    {
      "cell_type": "markdown",
      "metadata": {
        "id": "a-eIVjF9Oz80"
      },
      "source": [
        "String Data type usually is used to store text. The data to be stored in this data type is enclosed between single ('') or double (\"\") quotes.\n",
        "Recall that you printed your name in the previous Notebook. That was string data type.\n",
        "Let's look at an example."
      ]
    },
    {
      "cell_type": "code",
      "execution_count": 11,
      "metadata": {
        "id": "dUYETGSROz80",
        "colab": {
          "base_uri": "https://localhost:8080/",
          "height": 35
        },
        "outputId": "6a880b62-5889-4a8c-9e45-dfd2ee47b0f8"
      },
      "outputs": [
        {
          "output_type": "execute_result",
          "data": {
            "text/plain": [
              "'Fatumata'"
            ],
            "application/vnd.google.colaboratory.intrinsic+json": {
              "type": "string"
            }
          },
          "metadata": {},
          "execution_count": 11
        }
      ],
      "source": [
        "# Printing your name\n",
        "My_Name = \"Fatumata\"\n",
        "\n",
        "# Check the results of the My_Name variable\n",
        "My_Name"
      ]
    },
    {
      "cell_type": "code",
      "execution_count": 12,
      "metadata": {
        "id": "vYHxbnk8Oz81",
        "colab": {
          "base_uri": "https://localhost:8080/"
        },
        "outputId": "10ed3e0e-22ed-413d-814a-815ae266a1c4"
      },
      "outputs": [
        {
          "output_type": "execute_result",
          "data": {
            "text/plain": [
              "str"
            ]
          },
          "metadata": {},
          "execution_count": 12
        }
      ],
      "source": [
        "# Check the data type of the My_Name variable\n",
        "type(My_Name)"
      ]
    },
    {
      "cell_type": "markdown",
      "metadata": {
        "id": "8-U9oGeoR9Mb"
      },
      "source": [
        "You can combine string methods with print statements to request information from a user. This uses the `input` statement and gives users a blinking cursor to enter information.\n",
        "\n",
        "Complex print statements are also possible where it prints string text, the contents of a variable, and even perform small operations in the statement and return the results. In the example below we will create a variable called `my_name` and use the input method to ask the user to input their name. From there we can print a statement saying hello, the user's entered name, and some punctuation. In the next print statement we can use the `type()` method to print the data type of the variable `my_name`."
      ]
    },
    {
      "cell_type": "code",
      "execution_count": 16,
      "metadata": {
        "id": "g138tt3WOz81",
        "colab": {
          "base_uri": "https://localhost:8080/"
        },
        "outputId": "8a97552f-3f33-417b-a59d-4af6ae44b759"
      },
      "outputs": [
        {
          "output_type": "stream",
          "name": "stdout",
          "text": [
            "What is your name?Fatumata \n",
            "Greeting Fatumata !\n",
            "Your name is a <class 'str'>\n"
          ]
        }
      ],
      "source": [
        "# Your turn to play around now.\n",
        "# Use the input statement to ask a user to enter their name\n",
        "# Syntax looks like this: descriptiveVariableName = input(\"Question to be asked? \")\n",
        "unique_name= input('What is your name?')\n",
        "\n",
        "# Use a print statement to check your input. Add a greeting to your statement.\n",
        "# Syntax looks like this: print(\"Greeting\", descriptiveVariableName, \"!\")\n",
        "print(f'Greeting {unique_name}!')\n",
        "\n",
        "# Now use a print statement to tell the user the data type.\n",
        "# Syntax looks like this: print(\"Your name is a \",type(descriptiveVariableName))\n",
        "print(\"Your name is a\", type(unique_name))\n"
      ]
    },
    {
      "cell_type": "markdown",
      "metadata": {
        "id": "5bEdKCA0Oz81"
      },
      "source": [
        "Various functions can be performed using strings like searching within a string, conversion to lowercase/uppercase, count, length, splitting, replacing, trimming, partitioning etc."
      ]
    },
    {
      "cell_type": "code",
      "execution_count": 17,
      "metadata": {
        "id": "d3CVN5izOz81",
        "colab": {
          "base_uri": "https://localhost:8080/"
        },
        "outputId": "b193bf03-46e8-4820-8ab6-87f2bfce780d"
      },
      "outputs": [
        {
          "output_type": "execute_result",
          "data": {
            "text/plain": [
              "9"
            ]
          },
          "metadata": {},
          "execution_count": 17
        }
      ],
      "source": [
        "# Let's check how many characters does your name contain.\n",
        "# Syntax: len(variableName)\n",
        "len(unique_name)"
      ]
    },
    {
      "cell_type": "code",
      "execution_count": 19,
      "metadata": {
        "id": "q-yeOolwOz82",
        "colab": {
          "base_uri": "https://localhost:8080/"
        },
        "outputId": "557365fd-4d6e-4b31-c0b9-9236ae40fb91"
      },
      "outputs": [
        {
          "output_type": "execute_result",
          "data": {
            "text/plain": [
              "False"
            ]
          },
          "metadata": {},
          "execution_count": 19
        }
      ],
      "source": [
        "# Let's see if My_Name is all Caps or not.\n",
        "# isupper() returns True if all the letters are Capitals, False if atleast one letter in in lower case.\n",
        "# Syntax: variableName.isupper()\n",
        "unique_name.isupper()"
      ]
    },
    {
      "cell_type": "code",
      "execution_count": 21,
      "metadata": {
        "id": "RQfxPz_KOz82",
        "colab": {
          "base_uri": "https://localhost:8080/"
        },
        "outputId": "e076022e-8738-4fd7-a902-87e3b6bea682"
      },
      "outputs": [
        {
          "output_type": "stream",
          "name": "stdout",
          "text": [
            "FATUMATA \n"
          ]
        }
      ],
      "source": [
        "# Let's convert My_Name to all caps.\n",
        "# Syntax: variableName = variableName.upper()\n",
        "unique_name=unique_name.upper()\n",
        "# Call the variable using the variable name.\n",
        "print(unique_name)\n"
      ]
    },
    {
      "cell_type": "code",
      "execution_count": 22,
      "metadata": {
        "id": "CnxJVlo0Oz82",
        "colab": {
          "base_uri": "https://localhost:8080/"
        },
        "outputId": "a6b5c72d-b600-4f98-b003-79fae0080cee"
      },
      "outputs": [
        {
          "output_type": "execute_result",
          "data": {
            "text/plain": [
              "True"
            ]
          },
          "metadata": {},
          "execution_count": 22
        }
      ],
      "source": [
        "# Check the uppercase again,\n",
        "# Now the output of isupper() changes to True.\n",
        "unique_name.isupper()\n"
      ]
    },
    {
      "cell_type": "code",
      "execution_count": 26,
      "metadata": {
        "id": "HHKRD0eKOz83",
        "colab": {
          "base_uri": "https://localhost:8080/"
        },
        "outputId": "d2fc021d-2ec3-4f77-deea-9ab3c3b242cb"
      },
      "outputs": [
        {
          "output_type": "stream",
          "name": "stdout",
          "text": [
            "i like to eat ice cream\n",
            "I LIKE TO EAT ICE CREAM\n",
            "I like to eat ice cream\n",
            "I Like To Eat Ice Cream\n"
          ]
        }
      ],
      "source": [
        "# Your turn to try it now.\n",
        "# Write a sentence and store it into an object.\n",
        "# Don't forget quotation marks for strings\n",
        "new_sentence='i like to eat ice cream'\n",
        "\n",
        "# Use a print statement to view your new_sentence\n",
        "print(new_sentence)\n",
        "# Use the .upper() method in a print statement to print the upper case sentence\n",
        "# HINT: Use a print statement, your variable name, and the .upper() method\n",
        "new_sentence=new_sentence.upper()\n",
        "print(new_sentence)\n",
        "# Use the .capitalize() method to print the sentence with the first word capitalized.\n",
        "new_sentence= new_sentence.capitalize()\n",
        "print(new_sentence)\n",
        "# Use the .title() method to print the sentence with the first letter of each word capitalized.\n",
        "new_sentence= new_sentence.title()\n",
        "print(new_sentence)"
      ]
    },
    {
      "cell_type": "code",
      "execution_count": 27,
      "metadata": {
        "id": "_RU2iVcdOz83",
        "colab": {
          "base_uri": "https://localhost:8080/"
        },
        "outputId": "c1cdacbb-7fa0-4516-c3aa-936d8c618833"
      },
      "outputs": [
        {
          "output_type": "execute_result",
          "data": {
            "text/plain": [
              "str"
            ]
          },
          "metadata": {},
          "execution_count": 27
        }
      ],
      "source": [
        "# Check the data type of the object you just created.\n",
        "type(new_sentence)"
      ]
    },
    {
      "cell_type": "code",
      "execution_count": 28,
      "metadata": {
        "id": "zTwyEacgOz83",
        "colab": {
          "base_uri": "https://localhost:8080/"
        },
        "outputId": "7134421d-93a7-4b41-bbd4-4c8a7f9be4b6"
      },
      "outputs": [
        {
          "output_type": "execute_result",
          "data": {
            "text/plain": [
              "False"
            ]
          },
          "metadata": {},
          "execution_count": 28
        }
      ],
      "source": [
        "# Check if it is all caps or not.\n",
        "# Syntax: variableName.isupper()\n",
        "new_sentence.isupper()\n"
      ]
    },
    {
      "cell_type": "code",
      "execution_count": 29,
      "metadata": {
        "id": "OFuwYxoHOz83",
        "colab": {
          "base_uri": "https://localhost:8080/"
        },
        "outputId": "c4920846-fc04-417e-b6af-560597dd090e"
      },
      "outputs": [
        {
          "output_type": "execute_result",
          "data": {
            "text/plain": [
              "False"
            ]
          },
          "metadata": {},
          "execution_count": 29
        }
      ],
      "source": [
        "# Challenge - Check if it is all lower case or not.\n",
        "# Use the example above to complete the challenge question\n",
        "new_sentence.islower()"
      ]
    },
    {
      "cell_type": "code",
      "execution_count": 31,
      "metadata": {
        "id": "gQTsgka1Oz84",
        "colab": {
          "base_uri": "https://localhost:8080/"
        },
        "outputId": "b6459c3d-0e4a-46dd-a290-ea3ba1601d50"
      },
      "outputs": [
        {
          "output_type": "stream",
          "name": "stdout",
          "text": [
            "I LIKE TO EAT ICE CREAM\n"
          ]
        }
      ],
      "source": [
        "# Challenge - Convert your object into all caps.\n",
        "new_sentence=new_sentence.upper()\n",
        "print(new_sentence)"
      ]
    },
    {
      "cell_type": "code",
      "execution_count": 32,
      "metadata": {
        "id": "FfURhkuaOz84",
        "colab": {
          "base_uri": "https://localhost:8080/"
        },
        "outputId": "35b3257f-2ed6-44b7-fe3f-b0c2795fc7c2"
      },
      "outputs": [
        {
          "output_type": "stream",
          "name": "stdout",
          "text": [
            "i like to eat ice cream\n"
          ]
        }
      ],
      "source": [
        "# Challenge - Convert your object into all lower case.\n",
        "new_sentence=new_sentence.lower()\n",
        "print(new_sentence)"
      ]
    },
    {
      "cell_type": "markdown",
      "metadata": {
        "id": "zpLbuwP6Oz84"
      },
      "source": [
        "## Boolean Data Type"
      ]
    },
    {
      "cell_type": "markdown",
      "metadata": {
        "id": "IXJ4iCMgOz84"
      },
      "source": [
        "The boolean data type has just two values, i.e., True or False."
      ]
    },
    {
      "cell_type": "code",
      "execution_count": 33,
      "metadata": {
        "id": "Qzolj8lPOz85"
      },
      "outputs": [],
      "source": [
        "# Create two variables, one with a value of True, one with a value of False\n",
        "true_variable=True\n",
        "false_variable=False"
      ]
    },
    {
      "cell_type": "code",
      "execution_count": 35,
      "metadata": {
        "id": "53_SQLshOz85",
        "colab": {
          "base_uri": "https://localhost:8080/"
        },
        "outputId": "9d60e701-8e54-4046-8263-850eb5e5cb97"
      },
      "outputs": [
        {
          "output_type": "execute_result",
          "data": {
            "text/plain": [
              "(bool, bool)"
            ]
          },
          "metadata": {},
          "execution_count": 35
        }
      ],
      "source": [
        "# Check the data type of your new variables\n",
        "# HINT: you can check multiple items by separating the statements with a comma\n",
        "type(true_variable), type(false_variable)"
      ]
    },
    {
      "cell_type": "markdown",
      "metadata": {
        "id": "JnXKU29fOz85"
      },
      "source": [
        "## Data Type Conversions"
      ]
    },
    {
      "cell_type": "markdown",
      "metadata": {
        "id": "xxFOfebXOz85"
      },
      "source": [
        "As explained earlier, data should be stored in correct form so that it can be manipulated efficiently later.\n",
        "Quite a lot of times, data is not stored correctly or it gets imported incorrectly.\n",
        "In such cases, data needs to be converted to its correct type so that it can be optimally used in our analysis.\n",
        "Thus, let's look at data type conversion exercises to get you comfortable with the process."
      ]
    },
    {
      "cell_type": "code",
      "execution_count": 36,
      "metadata": {
        "id": "8aGHMkW7Oz86"
      },
      "outputs": [],
      "source": [
        "# Create an object containing an integer.\n",
        "age=25"
      ]
    },
    {
      "cell_type": "code",
      "execution_count": 37,
      "metadata": {
        "id": "-dQdECzdOz86",
        "colab": {
          "base_uri": "https://localhost:8080/"
        },
        "outputId": "4e390fcb-0df2-4815-aaec-86f1673a0900"
      },
      "outputs": [
        {
          "output_type": "execute_result",
          "data": {
            "text/plain": [
              "int"
            ]
          },
          "metadata": {},
          "execution_count": 37
        }
      ],
      "source": [
        "# Check the data type of your new object\n",
        "type(age)\n"
      ]
    },
    {
      "cell_type": "code",
      "execution_count": 44,
      "metadata": {
        "id": "T30wagKUOz86"
      },
      "outputs": [],
      "source": [
        "# You want to use the value 1 as text. So let's convert it.\n",
        "# Syntax: variableName = str(variableName)\n",
        "value= 1\n",
        "value= str(value)"
      ]
    },
    {
      "cell_type": "code",
      "execution_count": 45,
      "metadata": {
        "id": "FMEvdM1WOz86",
        "colab": {
          "base_uri": "https://localhost:8080/"
        },
        "outputId": "40cbce58-d5ce-4905-df2b-41811469d96d"
      },
      "outputs": [
        {
          "output_type": "stream",
          "name": "stdout",
          "text": [
            "<class 'str'>\n"
          ]
        }
      ],
      "source": [
        "# Check the data type of your new object again.\n",
        "print(type(value))"
      ]
    },
    {
      "cell_type": "code",
      "execution_count": 46,
      "metadata": {
        "id": "8j-uQXBaOz9S",
        "colab": {
          "base_uri": "https://localhost:8080/"
        },
        "outputId": "b853f43b-f063-418f-9e13-d3a77b5ab367"
      },
      "outputs": [
        {
          "output_type": "execute_result",
          "data": {
            "text/plain": [
              "str"
            ]
          },
          "metadata": {},
          "execution_count": 46
        }
      ],
      "source": [
        "# Exercise for you. Store the number 123456 as string.\n",
        "my_number=\"123456\"\n",
        "# Check the data type\n",
        "type(my_number)\n"
      ]
    },
    {
      "cell_type": "code",
      "execution_count": 47,
      "metadata": {
        "id": "b5CuVvSQOz9T",
        "colab": {
          "base_uri": "https://localhost:8080/"
        },
        "outputId": "521c6029-ecea-41ea-ff96-6afa13ae1a93"
      },
      "outputs": [
        {
          "output_type": "execute_result",
          "data": {
            "text/plain": [
              "str"
            ]
          },
          "metadata": {},
          "execution_count": 47
        }
      ],
      "source": [
        "# Let's do the opposite now.\n",
        "# Create a variable and assign a numeric value as a string\n",
        "# HINT: Any value inside of quotes is a string\n",
        "my_password= \"789\"\n",
        "# Check the data type of your variable\n",
        "type(my_number)\n"
      ]
    },
    {
      "cell_type": "code",
      "execution_count": 48,
      "metadata": {
        "id": "uomNdG-OOz9T",
        "colab": {
          "base_uri": "https://localhost:8080/"
        },
        "outputId": "1dd9aced-b354-45b3-a626-72d582f472da"
      },
      "outputs": [
        {
          "output_type": "execute_result",
          "data": {
            "text/plain": [
              "int"
            ]
          },
          "metadata": {},
          "execution_count": 48
        }
      ],
      "source": [
        "# Let's learn to convert string to integer now.\n",
        "# Syntax: variableName = int(variableName)\n",
        "my_number= int(my_number)\n",
        "# Check the data type\n",
        "type(my_number)\n"
      ]
    },
    {
      "cell_type": "code",
      "execution_count": 49,
      "metadata": {
        "id": "p6c6Oj-oOz9T",
        "colab": {
          "base_uri": "https://localhost:8080/"
        },
        "outputId": "77aeecb5-e46e-43a1-a7a8-cd500f8172c9"
      },
      "outputs": [
        {
          "output_type": "execute_result",
          "data": {
            "text/plain": [
              "float"
            ]
          },
          "metadata": {},
          "execution_count": 49
        }
      ],
      "source": [
        "# Let's convert a string to a float.\n",
        "# Syntax: variableName = float(variableName)\n",
        "my_number= float(my_number)\n",
        "# Check the data type\n",
        "type(my_number)"
      ]
    },
    {
      "cell_type": "markdown",
      "metadata": {
        "id": "9QBKh6rWOz9U"
      },
      "source": [
        "Good job so far!\n",
        "You can also try converting strings to boolean and vice versa.\n",
        "You could also try conversions from integers to float and float to integer.\n",
        "\n",
        "Python is an intuitive language, so by default it stores data into correct formats.\n",
        "But very often we come across data being stored incorrectly especially while importing."
      ]
    }
  ],
  "metadata": {
    "colab": {
      "provenance": [],
      "include_colab_link": true
    },
    "kernelspec": {
      "display_name": "Python 3",
      "name": "python3"
    },
    "language_info": {
      "name": "python"
    }
  },
  "nbformat": 4,
  "nbformat_minor": 0
}